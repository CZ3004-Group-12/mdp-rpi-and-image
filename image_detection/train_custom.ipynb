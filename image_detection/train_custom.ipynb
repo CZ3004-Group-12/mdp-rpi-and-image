{
  "nbformat": 4,
  "nbformat_minor": 0,
  "metadata": {
    "colab": {
      "name": "train_custom.ipynb",
      "provenance": [],
      "collapsed_sections": []
    },
    "kernelspec": {
      "name": "python3",
      "display_name": "Python 3"
    },
    "language_info": {
      "name": "python"
    },
    "accelerator": "GPU"
  },
  "cells": [
    {
      "cell_type": "markdown",
      "source": [
        "**Mount Drive**"
      ],
      "metadata": {
        "id": "KjKRQFnbOT_D"
      }
    },
    {
      "cell_type": "code",
      "execution_count": null,
      "metadata": {
        "id": "5Wtzsj99GiAq"
      },
      "outputs": [],
      "source": [
        "from google.colab import drive\n",
        "drive.mount('/content/drive') "
      ]
    },
    {
      "cell_type": "markdown",
      "source": [
        "## Training"
      ],
      "metadata": {
        "id": "Ic2Pzmh4qiIZ"
      }
    },
    {
      "cell_type": "markdown",
      "source": [
        "**Install Dependencies**\n",
        "*   It is assumed images has been labelled to the yolov5 format(https://github.com/ivangrov/ModifiedOpenLabelling used)\n",
        "*   Install yolov5 and wandb\n",
        "*   Put custom_dataset.yaml in yolov5/data\n",
        "*   Then, install wandb to upload data and training progress on the cloud\n",
        "*   Run train.py and start training\n",
        "*   Once training is complicated, download best checkpoint from wandb \n"
      ],
      "metadata": {
        "id": "edRvvJvLP5uu"
      }
    },
    {
      "cell_type": "markdown",
      "source": [
        "Install yolov5 and its dependencies"
      ],
      "metadata": {
        "id": "pkLQs8icsE6g"
      }
    },
    {
      "cell_type": "code",
      "source": [
        "!git clone https://github.com/ultralytics/yolov5  # clone repo\n",
        "!pip install -U -r yolov5/requirements.txt  # install dependencies"
      ],
      "metadata": {
        "id": "8xvTMEBnP4si"
      },
      "execution_count": null,
      "outputs": []
    },
    {
      "cell_type": "markdown",
      "source": [
        "Install wandb"
      ],
      "metadata": {
        "id": "uuxRcdpVsJs5"
      }
    },
    {
      "cell_type": "code",
      "source": [
        "!pip install wandb"
      ],
      "metadata": {
        "id": "S43LpexInWAi"
      },
      "execution_count": null,
      "outputs": []
    },
    {
      "cell_type": "markdown",
      "source": [
        "CD into yolov5, ensuring in right directory"
      ],
      "metadata": {
        "id": "3pzs4OvwsL55"
      }
    },
    {
      "cell_type": "code",
      "source": [
        "%cd yolov5\n",
        "!ls"
      ],
      "metadata": {
        "colab": {
          "base_uri": "https://localhost:8080/"
        },
        "id": "8GtM8gPTke7y",
        "outputId": "e10bf1e4-4391-4258-cfb3-08bdd2b39124"
      },
      "execution_count": 3,
      "outputs": [
        {
          "output_type": "stream",
          "name": "stdout",
          "text": [
            "/content/yolov5\n",
            "CONTRIBUTING.md  Dockerfile  LICENSE\trequirements.txt  tutorial.ipynb\n",
            "data\t\t export.py   models\tsetup.cfg\t  utils\n",
            "detect.py\t hubconf.py  README.md\ttrain.py\t  val.py\n"
          ]
        }
      ]
    },
    {
      "cell_type": "code",
      "source": [
        "!python utils/loggers/wandb/log_dataset.py --project custom_yolov5 --data data/custom_dataset.yaml"
      ],
      "metadata": {
        "id": "pmr6wDsLne5Z"
      },
      "execution_count": null,
      "outputs": []
    },
    {
      "cell_type": "markdown",
      "source": [
        "Copy `custom_dataset.yaml` from drive into temp folder of yolov5. Change path in `custom_dataset.yaml` if needed"
      ],
      "metadata": {
        "id": "NZz-bqOKr7px"
      }
    },
    {
      "cell_type": "code",
      "source": [
        "!cp ../drive/MyDrive/MDP_training/custom_dataset.yaml data/"
      ],
      "metadata": {
        "id": "B-4_JcCqrWXx"
      },
      "execution_count": 6,
      "outputs": []
    },
    {
      "cell_type": "markdown",
      "source": [
        "**Start training**\n",
        "> Ensure in right directory `yolov5`, and run train.py"
      ],
      "metadata": {
        "id": "jhjwDbmTrC9J"
      }
    },
    {
      "cell_type": "code",
      "source": [
        "!ls"
      ],
      "metadata": {
        "colab": {
          "base_uri": "https://localhost:8080/"
        },
        "id": "RmaziFqmpo3J",
        "outputId": "956ada6c-a96f-414c-f23d-b6e759586480"
      },
      "execution_count": 7,
      "outputs": [
        {
          "output_type": "stream",
          "name": "stdout",
          "text": [
            "CONTRIBUTING.md  export.py   __pycache__       train.py\n",
            "data\t\t hubconf.py  README.md\t       tutorial.ipynb\n",
            "detect.py\t LICENSE     requirements.txt  utils\n",
            "Dockerfile\t models      setup.cfg\t       val.py\n"
          ]
        }
      ]
    },
    {
      "cell_type": "code",
      "source": [
        "alias_name = \"third_run\" #@param {type:\"string\"}\n",
        "epochs = 100 #@param {type:\"integer\"}\n",
        "yaml_path = \"data/custom_dataset.yaml\" #@param {type:\"string\"}\n",
        "\n",
        "#run training\n",
        "!python train.py --data yaml_path --weights yolov5s.pt --project custom_yolov5 --bbox_interval 1 --save-period 1 --epochs epochs --artifact_alias alias_name\n",
        "  "
      ],
      "metadata": {
        "id": "oSGs2A1fP4vQ"
      },
      "execution_count": null,
      "outputs": []
    },
    {
      "cell_type": "markdown",
      "source": [
        "## Test inference with trained model\n",
        "Note: Run this locally instead of in colab to use webcab for testing"
      ],
      "metadata": {
        "id": "Qh4DoRcFqnxw"
      }
    },
    {
      "cell_type": "code",
      "source": [
        "!python detect.py --source 0 --weights best_model.pt"
      ],
      "metadata": {
        "id": "8zFsji2DOTYa"
      },
      "execution_count": null,
      "outputs": []
    },
    {
      "cell_type": "code",
      "source": [
        ""
      ],
      "metadata": {
        "id": "TETk3rb4OTc8"
      },
      "execution_count": null,
      "outputs": []
    }
  ]
}